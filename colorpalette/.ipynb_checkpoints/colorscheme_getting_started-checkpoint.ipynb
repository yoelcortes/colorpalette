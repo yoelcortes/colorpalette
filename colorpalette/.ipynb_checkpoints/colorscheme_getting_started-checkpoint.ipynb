{
 "cells": [
  {
   "cell_type": "markdown",
   "metadata": {},
   "source": [
    "# Getting Started"
   ]
  },
  {
   "cell_type": "markdown",
   "metadata": {},
   "source": [
    "###  A Color object is a representation of a color and can be used to color strings. It is based on the color function in the [ansicolors package](https://pypi.org/project/ansicolors/)."
   ]
  },
  {
   "cell_type": "markdown",
   "metadata": {},
   "source": [
    "Create a color by ID:"
   ]
  },
  {
   "cell_type": "code",
   "execution_count": 1,
   "metadata": {},
   "outputs": [
    {
     "data": {
      "text/plain": [
       "\u001b[38;2;34;139;34m<forestgreen>\u001b[0m"
      ]
     },
     "execution_count": 1,
     "metadata": {},
     "output_type": "execute_result"
    }
   ],
   "source": [
    "from colorscheme import *\n",
    "green = Color('forestgreen')\n",
    "green"
   ]
  },
  {
   "cell_type": "markdown",
   "metadata": {},
   "source": [
    "Color a string:"
   ]
  },
  {
   "cell_type": "code",
   "execution_count": 2,
   "metadata": {},
   "outputs": [
    {
     "name": "stdout",
     "output_type": "stream",
     "text": [
      "\u001b[38;2;34;139;34mThis is green\u001b[0m\n"
     ]
    }
   ],
   "source": [
    "print(green('This is green'))"
   ]
  },
  {
   "cell_type": "markdown",
   "metadata": {},
   "source": [
    "You can also create a color passing the foreground color `fg`, background color `bg` style `style`, and name it using an `ID`."
   ]
  },
  {
   "cell_type": "code",
   "execution_count": 3,
   "metadata": {},
   "outputs": [
    {
     "data": {
      "text/plain": [
       "\u001b[38;2;34;139;34;48;2;255;240;245;4m<green_lavender>\u001b[0m"
      ]
     },
     "execution_count": 3,
     "metadata": {},
     "output_type": "execute_result"
    }
   ],
   "source": [
    "green_lavender = Color(fg='forestgreen', bg='lavenderblush', style='underline', ID='green_lavender')\n",
    "green_lavender"
   ]
  },
  {
   "cell_type": "markdown",
   "metadata": {},
   "source": [
    "Note: Please refer to the color function in the [ansicolors package](https://pypi.org/project/ansicolors/) for further details on these parameters:"
   ]
  },
  {
   "cell_type": "markdown",
   "metadata": {},
   "source": [
    "All colors with an ID are cached:"
   ]
  },
  {
   "cell_type": "code",
   "execution_count": 4,
   "metadata": {},
   "outputs": [
    {
     "data": {
      "text/plain": [
       "{'aliceblue': \u001b[38;2;240;248;255m<aliceblue>\u001b[0m,\n",
       " 'antiquewhite': \u001b[38;2;250;235;215m<antiquewhite>\u001b[0m,\n",
       " 'aqua': \u001b[38;2;0;255;255m<aqua>\u001b[0m,\n",
       " 'aquamarine': \u001b[38;2;127;255;212m<aquamarine>\u001b[0m,\n",
       " 'azure': \u001b[38;2;240;255;255m<azure>\u001b[0m,\n",
       " 'beige': \u001b[38;2;245;245;220m<beige>\u001b[0m,\n",
       " 'bisque': \u001b[38;2;255;228;196m<bisque>\u001b[0m,\n",
       " 'black': \u001b[30m<black>\u001b[0m,\n",
       " 'blanchedalmond': \u001b[38;2;255;235;205m<blanchedalmond>\u001b[0m,\n",
       " 'blue': \u001b[34m<blue>\u001b[0m,\n",
       " 'blueviolet': \u001b[38;2;138;43;226m<blueviolet>\u001b[0m,\n",
       " 'brown': \u001b[38;2;165;42;42m<brown>\u001b[0m,\n",
       " 'burlywood': \u001b[38;2;222;184;135m<burlywood>\u001b[0m,\n",
       " 'cadetblue': \u001b[38;2;95;158;160m<cadetblue>\u001b[0m,\n",
       " 'chartreuse': \u001b[38;2;127;255;0m<chartreuse>\u001b[0m,\n",
       " 'chocolate': \u001b[38;2;210;105;30m<chocolate>\u001b[0m,\n",
       " 'coral': \u001b[38;2;255;127;80m<coral>\u001b[0m,\n",
       " 'cornflowerblue': \u001b[38;2;100;149;237m<cornflowerblue>\u001b[0m,\n",
       " 'cornsilk': \u001b[38;2;255;248;220m<cornsilk>\u001b[0m,\n",
       " 'crimson': \u001b[38;2;220;20;60m<crimson>\u001b[0m,\n",
       " 'cyan': \u001b[36m<cyan>\u001b[0m,\n",
       " 'darkblue': \u001b[38;2;0;0;139m<darkblue>\u001b[0m,\n",
       " 'darkcyan': \u001b[38;2;0;139;139m<darkcyan>\u001b[0m,\n",
       " 'darkgoldenrod': \u001b[38;2;184;134;11m<darkgoldenrod>\u001b[0m,\n",
       " 'darkgray': \u001b[38;2;169;169;169m<darkgray>\u001b[0m,\n",
       " 'darkgreen': \u001b[38;2;0;100;0m<darkgreen>\u001b[0m,\n",
       " 'darkgrey': \u001b[38;2;169;169;169m<darkgrey>\u001b[0m,\n",
       " 'darkkhaki': \u001b[38;2;189;183;107m<darkkhaki>\u001b[0m,\n",
       " 'darkmagenta': \u001b[38;2;139;0;139m<darkmagenta>\u001b[0m,\n",
       " 'darkolivegreen': \u001b[38;2;85;107;47m<darkolivegreen>\u001b[0m,\n",
       " 'darkorange': \u001b[38;2;255;140;0m<darkorange>\u001b[0m,\n",
       " 'darkorchid': \u001b[38;2;153;50;204m<darkorchid>\u001b[0m,\n",
       " 'darkred': \u001b[38;2;139;0;0m<darkred>\u001b[0m,\n",
       " 'darksalmon': \u001b[38;2;233;150;122m<darksalmon>\u001b[0m,\n",
       " 'darkseagreen': \u001b[38;2;143;188;143m<darkseagreen>\u001b[0m,\n",
       " 'darkslateblue': \u001b[38;2;72;61;139m<darkslateblue>\u001b[0m,\n",
       " 'darkslategray': \u001b[38;2;47;79;79m<darkslategray>\u001b[0m,\n",
       " 'darkslategrey': \u001b[38;2;47;79;79m<darkslategrey>\u001b[0m,\n",
       " 'darkturquoise': \u001b[38;2;0;206;209m<darkturquoise>\u001b[0m,\n",
       " 'darkviolet': \u001b[38;2;148;0;211m<darkviolet>\u001b[0m,\n",
       " 'deeppink': \u001b[38;2;255;20;147m<deeppink>\u001b[0m,\n",
       " 'deepskyblue': \u001b[38;2;0;191;255m<deepskyblue>\u001b[0m,\n",
       " 'dimgray': \u001b[38;2;105;105;105m<dimgray>\u001b[0m,\n",
       " 'dimgrey': \u001b[38;2;105;105;105m<dimgrey>\u001b[0m,\n",
       " 'dodgerblue': \u001b[38;2;30;144;255m<dodgerblue>\u001b[0m,\n",
       " 'firebrick': \u001b[38;2;178;34;34m<firebrick>\u001b[0m,\n",
       " 'floralwhite': \u001b[38;2;255;250;240m<floralwhite>\u001b[0m,\n",
       " 'forestgreen': \u001b[38;2;34;139;34m<forestgreen>\u001b[0m,\n",
       " 'fuchsia': \u001b[38;2;255;0;255m<fuchsia>\u001b[0m,\n",
       " 'gainsboro': \u001b[38;2;220;220;220m<gainsboro>\u001b[0m,\n",
       " 'ghostwhite': \u001b[38;2;248;248;255m<ghostwhite>\u001b[0m,\n",
       " 'gold': \u001b[38;2;255;215;0m<gold>\u001b[0m,\n",
       " 'goldenrod': \u001b[38;2;218;165;32m<goldenrod>\u001b[0m,\n",
       " 'gray': \u001b[38;2;128;128;128m<gray>\u001b[0m,\n",
       " 'green': \u001b[32m<green>\u001b[0m,\n",
       " 'greenyellow': \u001b[38;2;173;255;47m<greenyellow>\u001b[0m,\n",
       " 'grey': \u001b[38;2;128;128;128m<grey>\u001b[0m,\n",
       " 'honeydew': \u001b[38;2;240;255;240m<honeydew>\u001b[0m,\n",
       " 'hotpink': \u001b[38;2;255;105;180m<hotpink>\u001b[0m,\n",
       " 'indianred': \u001b[38;2;205;92;92m<indianred>\u001b[0m,\n",
       " 'indigo': \u001b[38;2;75;0;130m<indigo>\u001b[0m,\n",
       " 'ivory': \u001b[38;2;255;255;240m<ivory>\u001b[0m,\n",
       " 'khaki': \u001b[38;2;240;230;140m<khaki>\u001b[0m,\n",
       " 'lavender': \u001b[38;2;230;230;250m<lavender>\u001b[0m,\n",
       " 'lavenderblush': \u001b[38;2;255;240;245m<lavenderblush>\u001b[0m,\n",
       " 'lawngreen': \u001b[38;2;124;252;0m<lawngreen>\u001b[0m,\n",
       " 'lemonchiffon': \u001b[38;2;255;250;205m<lemonchiffon>\u001b[0m,\n",
       " 'lightblue': \u001b[38;2;173;216;230m<lightblue>\u001b[0m,\n",
       " 'lightcoral': \u001b[38;2;240;128;128m<lightcoral>\u001b[0m,\n",
       " 'lightcyan': \u001b[38;2;224;255;255m<lightcyan>\u001b[0m,\n",
       " 'lightgoldenrodyellow': \u001b[38;2;250;250;210m<lightgoldenrodyellow>\u001b[0m,\n",
       " 'lightgray': \u001b[38;2;211;211;211m<lightgray>\u001b[0m,\n",
       " 'lightgreen': \u001b[38;2;144;238;144m<lightgreen>\u001b[0m,\n",
       " 'lightgrey': \u001b[38;2;211;211;211m<lightgrey>\u001b[0m,\n",
       " 'lightpink': \u001b[38;2;255;182;193m<lightpink>\u001b[0m,\n",
       " 'lightsalmon': \u001b[38;2;255;160;122m<lightsalmon>\u001b[0m,\n",
       " 'lightseagreen': \u001b[38;2;32;178;170m<lightseagreen>\u001b[0m,\n",
       " 'lightskyblue': \u001b[38;2;135;206;250m<lightskyblue>\u001b[0m,\n",
       " 'lightslategray': \u001b[38;2;119;136;153m<lightslategray>\u001b[0m,\n",
       " 'lightslategrey': \u001b[38;2;119;136;153m<lightslategrey>\u001b[0m,\n",
       " 'lightsteelblue': \u001b[38;2;176;196;222m<lightsteelblue>\u001b[0m,\n",
       " 'lightyellow': \u001b[38;2;255;255;224m<lightyellow>\u001b[0m,\n",
       " 'lime': \u001b[38;2;0;255;0m<lime>\u001b[0m,\n",
       " 'limegreen': \u001b[38;2;50;205;50m<limegreen>\u001b[0m,\n",
       " 'linen': \u001b[38;2;250;240;230m<linen>\u001b[0m,\n",
       " 'magenta': \u001b[35m<magenta>\u001b[0m,\n",
       " 'maroon': \u001b[38;2;128;0;0m<maroon>\u001b[0m,\n",
       " 'mediumaquamarine': \u001b[38;2;102;205;170m<mediumaquamarine>\u001b[0m,\n",
       " 'mediumblue': \u001b[38;2;0;0;205m<mediumblue>\u001b[0m,\n",
       " 'mediumorchid': \u001b[38;2;186;85;211m<mediumorchid>\u001b[0m,\n",
       " 'mediumpurple': \u001b[38;2;147;112;219m<mediumpurple>\u001b[0m,\n",
       " 'mediumseagreen': \u001b[38;2;60;179;113m<mediumseagreen>\u001b[0m,\n",
       " 'mediumslateblue': \u001b[38;2;123;104;238m<mediumslateblue>\u001b[0m,\n",
       " 'mediumspringgreen': \u001b[38;2;0;250;154m<mediumspringgreen>\u001b[0m,\n",
       " 'mediumturquoise': \u001b[38;2;72;209;204m<mediumturquoise>\u001b[0m,\n",
       " 'mediumvioletred': \u001b[38;2;199;21;133m<mediumvioletred>\u001b[0m,\n",
       " 'midnightblue': \u001b[38;2;25;25;112m<midnightblue>\u001b[0m,\n",
       " 'mintcream': \u001b[38;2;245;255;250m<mintcream>\u001b[0m,\n",
       " 'mistyrose': \u001b[38;2;255;228;225m<mistyrose>\u001b[0m,\n",
       " 'moccasin': \u001b[38;2;255;228;181m<moccasin>\u001b[0m,\n",
       " 'navajowhite': \u001b[38;2;255;222;173m<navajowhite>\u001b[0m,\n",
       " 'navy': \u001b[38;2;0;0;128m<navy>\u001b[0m,\n",
       " 'oldlace': \u001b[38;2;253;245;230m<oldlace>\u001b[0m,\n",
       " 'olive': \u001b[38;2;128;128;0m<olive>\u001b[0m,\n",
       " 'olivedrab': \u001b[38;2;107;142;35m<olivedrab>\u001b[0m,\n",
       " 'orange': \u001b[38;2;255;165;0m<orange>\u001b[0m,\n",
       " 'orangered': \u001b[38;2;255;69;0m<orangered>\u001b[0m,\n",
       " 'orchid': \u001b[38;2;218;112;214m<orchid>\u001b[0m,\n",
       " 'palegoldenrod': \u001b[38;2;238;232;170m<palegoldenrod>\u001b[0m,\n",
       " 'palegreen': \u001b[38;2;152;251;152m<palegreen>\u001b[0m,\n",
       " 'paleturquoise': \u001b[38;2;175;238;238m<paleturquoise>\u001b[0m,\n",
       " 'palevioletred': \u001b[38;2;219;112;147m<palevioletred>\u001b[0m,\n",
       " 'papayawhip': \u001b[38;2;255;239;213m<papayawhip>\u001b[0m,\n",
       " 'peachpuff': \u001b[38;2;255;218;185m<peachpuff>\u001b[0m,\n",
       " 'peru': \u001b[38;2;205;133;63m<peru>\u001b[0m,\n",
       " 'pink': \u001b[38;2;255;192;203m<pink>\u001b[0m,\n",
       " 'plum': \u001b[38;2;221;160;221m<plum>\u001b[0m,\n",
       " 'powderblue': \u001b[38;2;176;224;230m<powderblue>\u001b[0m,\n",
       " 'purple': \u001b[38;2;128;0;128m<purple>\u001b[0m,\n",
       " 'rebeccapurple': \u001b[38;2;102;51;153m<rebeccapurple>\u001b[0m,\n",
       " 'red': \u001b[31m<red>\u001b[0m,\n",
       " 'rosybrown': \u001b[38;2;188;143;143m<rosybrown>\u001b[0m,\n",
       " 'royalblue': \u001b[38;2;65;105;225m<royalblue>\u001b[0m,\n",
       " 'saddlebrown': \u001b[38;2;139;69;19m<saddlebrown>\u001b[0m,\n",
       " 'salmon': \u001b[38;2;250;128;114m<salmon>\u001b[0m,\n",
       " 'sandybrown': \u001b[38;2;244;164;96m<sandybrown>\u001b[0m,\n",
       " 'seagreen': \u001b[38;2;46;139;87m<seagreen>\u001b[0m,\n",
       " 'seashell': \u001b[38;2;255;245;238m<seashell>\u001b[0m,\n",
       " 'sienna': \u001b[38;2;160;82;45m<sienna>\u001b[0m,\n",
       " 'silver': \u001b[38;2;192;192;192m<silver>\u001b[0m,\n",
       " 'skyblue': \u001b[38;2;135;206;235m<skyblue>\u001b[0m,\n",
       " 'slateblue': \u001b[38;2;106;90;205m<slateblue>\u001b[0m,\n",
       " 'slategray': \u001b[38;2;112;128;144m<slategray>\u001b[0m,\n",
       " 'slategrey': \u001b[38;2;112;128;144m<slategrey>\u001b[0m,\n",
       " 'snow': \u001b[38;2;255;250;250m<snow>\u001b[0m,\n",
       " 'springgreen': \u001b[38;2;0;255;127m<springgreen>\u001b[0m,\n",
       " 'steelblue': \u001b[38;2;70;130;180m<steelblue>\u001b[0m,\n",
       " 'tan': \u001b[38;2;210;180;140m<tan>\u001b[0m,\n",
       " 'teal': \u001b[38;2;0;128;128m<teal>\u001b[0m,\n",
       " 'thistle': \u001b[38;2;216;191;216m<thistle>\u001b[0m,\n",
       " 'tomato': \u001b[38;2;255;99;71m<tomato>\u001b[0m,\n",
       " 'turquoise': \u001b[38;2;64;224;208m<turquoise>\u001b[0m,\n",
       " 'violet': \u001b[38;2;238;130;238m<violet>\u001b[0m,\n",
       " 'wheat': \u001b[38;2;245;222;179m<wheat>\u001b[0m,\n",
       " 'white': \u001b[37m<white>\u001b[0m,\n",
       " 'whitesmoke': \u001b[38;2;245;245;245m<whitesmoke>\u001b[0m,\n",
       " 'yellow': \u001b[33m<yellow>\u001b[0m,\n",
       " 'yellowgreen': \u001b[38;2;154;205;50m<yellowgreen>\u001b[0m,\n",
       " 'green_lavender': \u001b[38;2;34;139;34;48;2;255;240;245;4m<green_lavender>\u001b[0m}"
      ]
     },
     "execution_count": 4,
     "metadata": {},
     "output_type": "execute_result"
    }
   ],
   "source": [
    "Color.cached"
   ]
  },
  {
   "cell_type": "markdown",
   "metadata": {},
   "source": [
    "### ColorScheme objects are an iterable set of named Color objects. "
   ]
  },
  {
   "cell_type": "markdown",
   "metadata": {},
   "source": [
    "Create a ColorScheme object with key/Color pairs:"
   ]
  },
  {
   "cell_type": "code",
   "execution_count": 5,
   "metadata": {},
   "outputs": [
    {
     "data": {
      "text/plain": [
       "<ColorScheme: \u001b[38;2;34;139;34mstring\u001b[0m, \u001b[38;2;34;139;34;48;2;255;240;245;4memphasis\u001b[0m, \u001b[31mwarning\u001b[0m>"
      ]
     },
     "execution_count": 5,
     "metadata": {},
     "output_type": "execute_result"
    }
   ],
   "source": [
    "color_scheme = ColorScheme(string=green, emphasis=green_lavender, warning=Color('red'))\n",
    "color_scheme"
   ]
  },
  {
   "cell_type": "markdown",
   "metadata": {},
   "source": [
    "All Color objects are attributes:"
   ]
  },
  {
   "cell_type": "code",
   "execution_count": 6,
   "metadata": {},
   "outputs": [
    {
     "data": {
      "text/plain": [
       "(\u001b[38;2;34;139;34m<forestgreen>\u001b[0m,\n",
       " \u001b[38;2;34;139;34;48;2;255;240;245;4m<green_lavender>\u001b[0m,\n",
       " \u001b[31m<red>\u001b[0m)"
      ]
     },
     "execution_count": 6,
     "metadata": {},
     "output_type": "execute_result"
    }
   ],
   "source": [
    "color_scheme.string, color_scheme.emphasis, color_scheme.warning"
   ]
  },
  {
   "cell_type": "markdown",
   "metadata": {},
   "source": [
    "ColorScheme objects are iterable:"
   ]
  },
  {
   "cell_type": "code",
   "execution_count": 7,
   "metadata": {},
   "outputs": [
    {
     "name": "stdout",
     "output_type": "stream",
     "text": [
      "\u001b[38;2;34;139;34mTest\u001b[0m\n",
      "\u001b[38;2;34;139;34;48;2;255;240;245;4mTest\u001b[0m\n",
      "\u001b[31mTest\u001b[0m\n"
     ]
    }
   ],
   "source": [
    "for color in color_scheme:\n",
    "    print(color('Test'))"
   ]
  },
  {
   "cell_type": "code",
   "execution_count": null,
   "metadata": {},
   "outputs": [],
   "source": []
  }
 ],
 "metadata": {
  "kernelspec": {
   "display_name": "Python 3",
   "language": "python",
   "name": "python3"
  },
  "language_info": {
   "codemirror_mode": {
    "name": "ipython",
    "version": 3
   },
   "file_extension": ".py",
   "mimetype": "text/x-python",
   "name": "python",
   "nbconvert_exporter": "python",
   "pygments_lexer": "ipython3",
   "version": "3.6.5"
  }
 },
 "nbformat": 4,
 "nbformat_minor": 2
}
