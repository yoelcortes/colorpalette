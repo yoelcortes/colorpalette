{
 "cells": [
  {
   "cell_type": "markdown",
   "metadata": {},
   "source": [
    "# Getting Started"
   ]
  },
  {
   "cell_type": "markdown",
   "metadata": {},
   "source": [
    "###  Color: Color strings based on the [ansicolors package](https://pypi.org/project/ansicolors/)."
   ]
  },
  {
   "cell_type": "markdown",
   "metadata": {},
   "source": [
    "Create a color by ID:"
   ]
  },
  {
   "cell_type": "code",
   "execution_count": 1,
   "metadata": {},
   "outputs": [
    {
     "name": "stdout",
     "output_type": "stream",
     "text": [
      "\u001b[38;2;34;139;34mforestgreen\u001b[0m\n"
     ]
    }
   ],
   "source": [
    "from colorpalette import *\n",
    "green = Color('forestgreen')\n",
    "green"
   ]
  },
  {
   "cell_type": "markdown",
   "metadata": {},
   "source": [
    "Color a string:"
   ]
  },
  {
   "cell_type": "code",
   "execution_count": 2,
   "metadata": {},
   "outputs": [
    {
     "name": "stdout",
     "output_type": "stream",
     "text": [
      "\u001b[38;2;34;139;34mThis is green\u001b[0m\n"
     ]
    }
   ],
   "source": [
    "print(green('This is green'))"
   ]
  },
  {
   "cell_type": "markdown",
   "metadata": {},
   "source": [
    "Colors can also be concatenated. Add Color.reset, to remove the color code in later strings"
   ]
  },
  {
   "cell_type": "code",
   "execution_count": 3,
   "metadata": {},
   "outputs": [
    {
     "name": "stdout",
     "output_type": "stream",
     "text": [
      "\u001b[38;2;34;139;34mThis is green\u001b[0m\n",
      "This is normal\n"
     ]
    }
   ],
   "source": [
    "print(green + 'This is green' + Color.reset + '\\nThis is normal')"
   ]
  },
  {
   "cell_type": "markdown",
   "metadata": {},
   "source": [
    "You can also create a color passing the foreground color (`fg`), background color (`bg`), `style`, and define them with an `ID`."
   ]
  },
  {
   "cell_type": "code",
   "execution_count": 4,
   "metadata": {},
   "outputs": [
    {
     "name": "stdout",
     "output_type": "stream",
     "text": [
      "\u001b[38;2;34;139;34;48;2;255;240;245;4mgreen_lavender\u001b[0m\n"
     ]
    }
   ],
   "source": [
    "green_lavender = Color(fg='forestgreen', bg='lavenderblush', style='underline', ID='green_lavender')\n",
    "green_lavender"
   ]
  },
  {
   "cell_type": "markdown",
   "metadata": {},
   "source": [
    "Note: Please refer to the color function in the [ansicolors package](https://pypi.org/project/ansicolors/) for further details on these parameters:"
   ]
  },
  {
   "cell_type": "markdown",
   "metadata": {},
   "source": [
    "All colors with an ID are saved in 'cached':"
   ]
  },
  {
   "cell_type": "code",
   "execution_count": 5,
   "metadata": {},
   "outputs": [
    {
     "data": {
      "text/plain": [
       "{'aliceblue': \u001b[38;2;240;248;255maliceblue\u001b[0m,\n",
       " 'antiquewhite': \u001b[38;2;250;235;215mantiquewhite\u001b[0m,\n",
       " 'aqua': \u001b[38;2;0;255;255maqua\u001b[0m,\n",
       " 'aquamarine': \u001b[38;2;127;255;212maquamarine\u001b[0m,\n",
       " 'azure': \u001b[38;2;240;255;255mazure\u001b[0m,\n",
       " 'beige': \u001b[38;2;245;245;220mbeige\u001b[0m,\n",
       " 'bisque': \u001b[38;2;255;228;196mbisque\u001b[0m,\n",
       " 'black': \u001b[30mblack\u001b[0m,\n",
       " 'blanchedalmond': \u001b[38;2;255;235;205mblanchedalmond\u001b[0m,\n",
       " 'blue': \u001b[34mblue\u001b[0m,\n",
       " 'blueviolet': \u001b[38;2;138;43;226mblueviolet\u001b[0m,\n",
       " 'brown': \u001b[38;2;165;42;42mbrown\u001b[0m,\n",
       " 'burlywood': \u001b[38;2;222;184;135mburlywood\u001b[0m,\n",
       " 'cadetblue': \u001b[38;2;95;158;160mcadetblue\u001b[0m,\n",
       " 'chartreuse': \u001b[38;2;127;255;0mchartreuse\u001b[0m,\n",
       " 'chocolate': \u001b[38;2;210;105;30mchocolate\u001b[0m,\n",
       " 'coral': \u001b[38;2;255;127;80mcoral\u001b[0m,\n",
       " 'cornflowerblue': \u001b[38;2;100;149;237mcornflowerblue\u001b[0m,\n",
       " 'cornsilk': \u001b[38;2;255;248;220mcornsilk\u001b[0m,\n",
       " 'crimson': \u001b[38;2;220;20;60mcrimson\u001b[0m,\n",
       " 'cyan': \u001b[36mcyan\u001b[0m,\n",
       " 'darkblue': \u001b[38;2;0;0;139mdarkblue\u001b[0m,\n",
       " 'darkcyan': \u001b[38;2;0;139;139mdarkcyan\u001b[0m,\n",
       " 'darkgoldenrod': \u001b[38;2;184;134;11mdarkgoldenrod\u001b[0m,\n",
       " 'darkgray': \u001b[38;2;169;169;169mdarkgray\u001b[0m,\n",
       " 'darkgreen': \u001b[38;2;0;100;0mdarkgreen\u001b[0m,\n",
       " 'darkgrey': \u001b[38;2;169;169;169mdarkgrey\u001b[0m,\n",
       " 'darkkhaki': \u001b[38;2;189;183;107mdarkkhaki\u001b[0m,\n",
       " 'darkmagenta': \u001b[38;2;139;0;139mdarkmagenta\u001b[0m,\n",
       " 'darkolivegreen': \u001b[38;2;85;107;47mdarkolivegreen\u001b[0m,\n",
       " 'darkorange': \u001b[38;2;255;140;0mdarkorange\u001b[0m,\n",
       " 'darkorchid': \u001b[38;2;153;50;204mdarkorchid\u001b[0m,\n",
       " 'darkred': \u001b[38;2;139;0;0mdarkred\u001b[0m,\n",
       " 'darksalmon': \u001b[38;2;233;150;122mdarksalmon\u001b[0m,\n",
       " 'darkseagreen': \u001b[38;2;143;188;143mdarkseagreen\u001b[0m,\n",
       " 'darkslateblue': \u001b[38;2;72;61;139mdarkslateblue\u001b[0m,\n",
       " 'darkslategray': \u001b[38;2;47;79;79mdarkslategray\u001b[0m,\n",
       " 'darkslategrey': \u001b[38;2;47;79;79mdarkslategrey\u001b[0m,\n",
       " 'darkturquoise': \u001b[38;2;0;206;209mdarkturquoise\u001b[0m,\n",
       " 'darkviolet': \u001b[38;2;148;0;211mdarkviolet\u001b[0m,\n",
       " 'deeppink': \u001b[38;2;255;20;147mdeeppink\u001b[0m,\n",
       " 'deepskyblue': \u001b[38;2;0;191;255mdeepskyblue\u001b[0m,\n",
       " 'dimgray': \u001b[38;2;105;105;105mdimgray\u001b[0m,\n",
       " 'dimgrey': \u001b[38;2;105;105;105mdimgrey\u001b[0m,\n",
       " 'dodgerblue': \u001b[38;2;30;144;255mdodgerblue\u001b[0m,\n",
       " 'firebrick': \u001b[38;2;178;34;34mfirebrick\u001b[0m,\n",
       " 'floralwhite': \u001b[38;2;255;250;240mfloralwhite\u001b[0m,\n",
       " 'forestgreen': \u001b[38;2;34;139;34mforestgreen\u001b[0m,\n",
       " 'fuchsia': \u001b[38;2;255;0;255mfuchsia\u001b[0m,\n",
       " 'gainsboro': \u001b[38;2;220;220;220mgainsboro\u001b[0m,\n",
       " 'ghostwhite': \u001b[38;2;248;248;255mghostwhite\u001b[0m,\n",
       " 'gold': \u001b[38;2;255;215;0mgold\u001b[0m,\n",
       " 'goldenrod': \u001b[38;2;218;165;32mgoldenrod\u001b[0m,\n",
       " 'gray': \u001b[38;2;128;128;128mgray\u001b[0m,\n",
       " 'green': \u001b[32mgreen\u001b[0m,\n",
       " 'greenyellow': \u001b[38;2;173;255;47mgreenyellow\u001b[0m,\n",
       " 'grey': \u001b[38;2;128;128;128mgrey\u001b[0m,\n",
       " 'honeydew': \u001b[38;2;240;255;240mhoneydew\u001b[0m,\n",
       " 'hotpink': \u001b[38;2;255;105;180mhotpink\u001b[0m,\n",
       " 'indianred': \u001b[38;2;205;92;92mindianred\u001b[0m,\n",
       " 'indigo': \u001b[38;2;75;0;130mindigo\u001b[0m,\n",
       " 'ivory': \u001b[38;2;255;255;240mivory\u001b[0m,\n",
       " 'khaki': \u001b[38;2;240;230;140mkhaki\u001b[0m,\n",
       " 'lavender': \u001b[38;2;230;230;250mlavender\u001b[0m,\n",
       " 'lavenderblush': \u001b[38;2;255;240;245mlavenderblush\u001b[0m,\n",
       " 'lawngreen': \u001b[38;2;124;252;0mlawngreen\u001b[0m,\n",
       " 'lemonchiffon': \u001b[38;2;255;250;205mlemonchiffon\u001b[0m,\n",
       " 'lightblue': \u001b[38;2;173;216;230mlightblue\u001b[0m,\n",
       " 'lightcoral': \u001b[38;2;240;128;128mlightcoral\u001b[0m,\n",
       " 'lightcyan': \u001b[38;2;224;255;255mlightcyan\u001b[0m,\n",
       " 'lightgoldenrodyellow': \u001b[38;2;250;250;210mlightgoldenrodyellow\u001b[0m,\n",
       " 'lightgray': \u001b[38;2;211;211;211mlightgray\u001b[0m,\n",
       " 'lightgreen': \u001b[38;2;144;238;144mlightgreen\u001b[0m,\n",
       " 'lightgrey': \u001b[38;2;211;211;211mlightgrey\u001b[0m,\n",
       " 'lightpink': \u001b[38;2;255;182;193mlightpink\u001b[0m,\n",
       " 'lightsalmon': \u001b[38;2;255;160;122mlightsalmon\u001b[0m,\n",
       " 'lightseagreen': \u001b[38;2;32;178;170mlightseagreen\u001b[0m,\n",
       " 'lightskyblue': \u001b[38;2;135;206;250mlightskyblue\u001b[0m,\n",
       " 'lightslategray': \u001b[38;2;119;136;153mlightslategray\u001b[0m,\n",
       " 'lightslategrey': \u001b[38;2;119;136;153mlightslategrey\u001b[0m,\n",
       " 'lightsteelblue': \u001b[38;2;176;196;222mlightsteelblue\u001b[0m,\n",
       " 'lightyellow': \u001b[38;2;255;255;224mlightyellow\u001b[0m,\n",
       " 'lime': \u001b[38;2;0;255;0mlime\u001b[0m,\n",
       " 'limegreen': \u001b[38;2;50;205;50mlimegreen\u001b[0m,\n",
       " 'linen': \u001b[38;2;250;240;230mlinen\u001b[0m,\n",
       " 'magenta': \u001b[35mmagenta\u001b[0m,\n",
       " 'maroon': \u001b[38;2;128;0;0mmaroon\u001b[0m,\n",
       " 'mediumaquamarine': \u001b[38;2;102;205;170mmediumaquamarine\u001b[0m,\n",
       " 'mediumblue': \u001b[38;2;0;0;205mmediumblue\u001b[0m,\n",
       " 'mediumorchid': \u001b[38;2;186;85;211mmediumorchid\u001b[0m,\n",
       " 'mediumpurple': \u001b[38;2;147;112;219mmediumpurple\u001b[0m,\n",
       " 'mediumseagreen': \u001b[38;2;60;179;113mmediumseagreen\u001b[0m,\n",
       " 'mediumslateblue': \u001b[38;2;123;104;238mmediumslateblue\u001b[0m,\n",
       " 'mediumspringgreen': \u001b[38;2;0;250;154mmediumspringgreen\u001b[0m,\n",
       " 'mediumturquoise': \u001b[38;2;72;209;204mmediumturquoise\u001b[0m,\n",
       " 'mediumvioletred': \u001b[38;2;199;21;133mmediumvioletred\u001b[0m,\n",
       " 'midnightblue': \u001b[38;2;25;25;112mmidnightblue\u001b[0m,\n",
       " 'mintcream': \u001b[38;2;245;255;250mmintcream\u001b[0m,\n",
       " 'mistyrose': \u001b[38;2;255;228;225mmistyrose\u001b[0m,\n",
       " 'moccasin': \u001b[38;2;255;228;181mmoccasin\u001b[0m,\n",
       " 'navajowhite': \u001b[38;2;255;222;173mnavajowhite\u001b[0m,\n",
       " 'navy': \u001b[38;2;0;0;128mnavy\u001b[0m,\n",
       " 'oldlace': \u001b[38;2;253;245;230moldlace\u001b[0m,\n",
       " 'olive': \u001b[38;2;128;128;0molive\u001b[0m,\n",
       " 'olivedrab': \u001b[38;2;107;142;35molivedrab\u001b[0m,\n",
       " 'orange': \u001b[38;2;255;165;0morange\u001b[0m,\n",
       " 'orangered': \u001b[38;2;255;69;0morangered\u001b[0m,\n",
       " 'orchid': \u001b[38;2;218;112;214morchid\u001b[0m,\n",
       " 'palegoldenrod': \u001b[38;2;238;232;170mpalegoldenrod\u001b[0m,\n",
       " 'palegreen': \u001b[38;2;152;251;152mpalegreen\u001b[0m,\n",
       " 'paleturquoise': \u001b[38;2;175;238;238mpaleturquoise\u001b[0m,\n",
       " 'palevioletred': \u001b[38;2;219;112;147mpalevioletred\u001b[0m,\n",
       " 'papayawhip': \u001b[38;2;255;239;213mpapayawhip\u001b[0m,\n",
       " 'peachpuff': \u001b[38;2;255;218;185mpeachpuff\u001b[0m,\n",
       " 'peru': \u001b[38;2;205;133;63mperu\u001b[0m,\n",
       " 'pink': \u001b[38;2;255;192;203mpink\u001b[0m,\n",
       " 'plum': \u001b[38;2;221;160;221mplum\u001b[0m,\n",
       " 'powderblue': \u001b[38;2;176;224;230mpowderblue\u001b[0m,\n",
       " 'purple': \u001b[38;2;128;0;128mpurple\u001b[0m,\n",
       " 'rebeccapurple': \u001b[38;2;102;51;153mrebeccapurple\u001b[0m,\n",
       " 'red': \u001b[31mred\u001b[0m,\n",
       " 'rosybrown': \u001b[38;2;188;143;143mrosybrown\u001b[0m,\n",
       " 'royalblue': \u001b[38;2;65;105;225mroyalblue\u001b[0m,\n",
       " 'saddlebrown': \u001b[38;2;139;69;19msaddlebrown\u001b[0m,\n",
       " 'salmon': \u001b[38;2;250;128;114msalmon\u001b[0m,\n",
       " 'sandybrown': \u001b[38;2;244;164;96msandybrown\u001b[0m,\n",
       " 'seagreen': \u001b[38;2;46;139;87mseagreen\u001b[0m,\n",
       " 'seashell': \u001b[38;2;255;245;238mseashell\u001b[0m,\n",
       " 'sienna': \u001b[38;2;160;82;45msienna\u001b[0m,\n",
       " 'silver': \u001b[38;2;192;192;192msilver\u001b[0m,\n",
       " 'skyblue': \u001b[38;2;135;206;235mskyblue\u001b[0m,\n",
       " 'slateblue': \u001b[38;2;106;90;205mslateblue\u001b[0m,\n",
       " 'slategray': \u001b[38;2;112;128;144mslategray\u001b[0m,\n",
       " 'slategrey': \u001b[38;2;112;128;144mslategrey\u001b[0m,\n",
       " 'snow': \u001b[38;2;255;250;250msnow\u001b[0m,\n",
       " 'springgreen': \u001b[38;2;0;255;127mspringgreen\u001b[0m,\n",
       " 'steelblue': \u001b[38;2;70;130;180msteelblue\u001b[0m,\n",
       " 'tan': \u001b[38;2;210;180;140mtan\u001b[0m,\n",
       " 'teal': \u001b[38;2;0;128;128mteal\u001b[0m,\n",
       " 'thistle': \u001b[38;2;216;191;216mthistle\u001b[0m,\n",
       " 'tomato': \u001b[38;2;255;99;71mtomato\u001b[0m,\n",
       " 'turquoise': \u001b[38;2;64;224;208mturquoise\u001b[0m,\n",
       " 'violet': \u001b[38;2;238;130;238mviolet\u001b[0m,\n",
       " 'wheat': \u001b[38;2;245;222;179mwheat\u001b[0m,\n",
       " 'white': \u001b[37mwhite\u001b[0m,\n",
       " 'whitesmoke': \u001b[38;2;245;245;245mwhitesmoke\u001b[0m,\n",
       " 'yellow': \u001b[33myellow\u001b[0m,\n",
       " 'yellowgreen': \u001b[38;2;154;205;50myellowgreen\u001b[0m,\n",
       " 'reset': \u001b[0mreset\u001b[0m,\n",
       " 'green_lavender': \u001b[38;2;34;139;34;48;2;255;240;245;4mgreen_lavender\u001b[0m}"
      ]
     },
     "execution_count": 5,
     "metadata": {},
     "output_type": "execute_result"
    }
   ],
   "source": [
    "Color.cached"
   ]
  },
  {
   "cell_type": "markdown",
   "metadata": {},
   "source": [
    "Get RGB or HEX of the Color object:"
   ]
  },
  {
   "cell_type": "code",
   "execution_count": 6,
   "metadata": {},
   "outputs": [
    {
     "data": {
      "text/plain": [
       "array([ 34., 139.,  34.])"
      ]
     },
     "execution_count": 6,
     "metadata": {},
     "output_type": "execute_result"
    }
   ],
   "source": [
    "# Foreground color (RGB)\n",
    "green_lavender.RGB"
   ]
  },
  {
   "cell_type": "code",
   "execution_count": 7,
   "metadata": {},
   "outputs": [
    {
     "data": {
      "text/plain": [
       "array([0.13333333, 0.54509804, 0.13333333])"
      ]
     },
     "execution_count": 7,
     "metadata": {},
     "output_type": "execute_result"
    }
   ],
   "source": [
    "# Foreground color (normalized RGB)\n",
    "green_lavender.RGBn"
   ]
  },
  {
   "cell_type": "code",
   "execution_count": 8,
   "metadata": {},
   "outputs": [
    {
     "data": {
      "text/plain": [
       "array([255., 240., 245.])"
      ]
     },
     "execution_count": 8,
     "metadata": {},
     "output_type": "execute_result"
    }
   ],
   "source": [
    "# Background color (RGB)\n",
    "green_lavender.RGB_bg"
   ]
  },
  {
   "cell_type": "code",
   "execution_count": 9,
   "metadata": {},
   "outputs": [
    {
     "data": {
      "text/plain": [
       "array([1.        , 0.94117647, 0.96078431])"
      ]
     },
     "execution_count": 9,
     "metadata": {},
     "output_type": "execute_result"
    }
   ],
   "source": [
    "# Background color (normalized RGB)\n",
    "green_lavender.RGBn_bg"
   ]
  },
  {
   "cell_type": "code",
   "execution_count": 10,
   "metadata": {},
   "outputs": [
    {
     "data": {
      "text/plain": [
       "'#228b22'"
      ]
     },
     "execution_count": 10,
     "metadata": {},
     "output_type": "execute_result"
    }
   ],
   "source": [
    "# Foreground color (HEX)\n",
    "green_lavender.HEX"
   ]
  },
  {
   "cell_type": "code",
   "execution_count": 11,
   "metadata": {},
   "outputs": [
    {
     "data": {
      "text/plain": [
       "'#fff0f5'"
      ]
     },
     "execution_count": 11,
     "metadata": {},
     "output_type": "execute_result"
    }
   ],
   "source": [
    "# Background color (HEX)\n",
    "green_lavender.HEX_bg"
   ]
  },
  {
   "cell_type": "markdown",
   "metadata": {},
   "source": [
    "Get tints and shades of the Color object:"
   ]
  },
  {
   "cell_type": "code",
   "execution_count": 12,
   "metadata": {},
   "outputs": [
    {
     "name": "stdout",
     "output_type": "stream",
     "text": [
      "\u001b[38;2;89;168;89;48;2;255;243;247;4m25% tinted green_lavender\u001b[0m\n"
     ]
    }
   ],
   "source": [
    "green_lavender.tint(25) # 25% tint"
   ]
  },
  {
   "cell_type": "code",
   "execution_count": 13,
   "metadata": {},
   "outputs": [
    {
     "name": "stdout",
     "output_type": "stream",
     "text": [
      "\u001b[38;2;25;104;25;48;2;191;180;183;4m25% shaded green_lavender\u001b[0m\n"
     ]
    }
   ],
   "source": [
    "green_lavender.shade(25) # 25% shade"
   ]
  },
  {
   "cell_type": "markdown",
   "metadata": {},
   "source": [
    "### Palette: Iterable set of named Color objects. "
   ]
  },
  {
   "cell_type": "markdown",
   "metadata": {},
   "source": [
    "Create a Palette object with key/Color pairs:"
   ]
  },
  {
   "cell_type": "code",
   "execution_count": 14,
   "metadata": {},
   "outputs": [
    {
     "name": "stdout",
     "output_type": "stream",
     "text": [
      "Palette(\u001b[38;2;34;139;34mstring\u001b[0m, \u001b[38;2;34;139;34;48;2;255;240;245;4memphasis\u001b[0m, \u001b[31mwarning\u001b[0m)\n"
     ]
    }
   ],
   "source": [
    "color_scheme = Palette(string=green, emphasis=green_lavender, warning=Color('red'))\n",
    "color_scheme"
   ]
  },
  {
   "cell_type": "markdown",
   "metadata": {},
   "source": [
    "All Color objects are attributes:"
   ]
  },
  {
   "cell_type": "code",
   "execution_count": 15,
   "metadata": {},
   "outputs": [
    {
     "data": {
      "text/plain": [
       "(\u001b[38;2;34;139;34mforestgreen\u001b[0m,\n",
       " \u001b[38;2;34;139;34;48;2;255;240;245;4mgreen_lavender\u001b[0m,\n",
       " \u001b[31mred\u001b[0m)"
      ]
     },
     "execution_count": 15,
     "metadata": {},
     "output_type": "execute_result"
    }
   ],
   "source": [
    "color_scheme.string, color_scheme.emphasis, color_scheme.warning"
   ]
  },
  {
   "cell_type": "markdown",
   "metadata": {},
   "source": [
    "Palette objects are iterable:"
   ]
  },
  {
   "cell_type": "code",
   "execution_count": 16,
   "metadata": {},
   "outputs": [
    {
     "name": "stdout",
     "output_type": "stream",
     "text": [
      "\u001b[38;2;34;139;34mTest\u001b[0m\n",
      "\u001b[38;2;34;139;34;48;2;255;240;245;4mTest\u001b[0m\n",
      "\u001b[31mTest\u001b[0m\n"
     ]
    }
   ],
   "source": [
    "for color in color_scheme:\n",
    "    print(color('Test'))"
   ]
  }
 ],
 "metadata": {
  "kernelspec": {
   "display_name": "Python 3",
   "language": "python",
   "name": "python3"
  },
  "language_info": {
   "codemirror_mode": {
    "name": "ipython",
    "version": 3
   },
   "file_extension": ".py",
   "mimetype": "text/x-python",
   "name": "python",
   "nbconvert_exporter": "python",
   "pygments_lexer": "ipython3",
   "version": "3.6.5"
  }
 },
 "nbformat": 4,
 "nbformat_minor": 2
}
